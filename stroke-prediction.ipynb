{
  "cells": [
    {
      "cell_type": "code",
      "execution_count": 1,
      "metadata": {
        "colab": {
          "base_uri": "https://localhost:8080/",
          "height": 90
        },
        "id": "wnpGdS-rR5rT",
        "outputId": "4814eedb-1668-41be-f4a9-872e4ffe3b89"
      },
      "outputs": [
        {
          "output_type": "display_data",
          "data": {
            "text/plain": [
              "<IPython.core.display.HTML object>"
            ],
            "text/html": [
              "\n",
              "     <input type=\"file\" id=\"files-c17d3fe0-95e9-4976-83cd-f47b588a1e98\" name=\"files[]\" multiple disabled\n",
              "        style=\"border:none\" />\n",
              "     <output id=\"result-c17d3fe0-95e9-4976-83cd-f47b588a1e98\">\n",
              "      Upload widget is only available when the cell has been executed in the\n",
              "      current browser session. Please rerun this cell to enable.\n",
              "      </output>\n",
              "      <script>// Copyright 2017 Google LLC\n",
              "//\n",
              "// Licensed under the Apache License, Version 2.0 (the \"License\");\n",
              "// you may not use this file except in compliance with the License.\n",
              "// You may obtain a copy of the License at\n",
              "//\n",
              "//      http://www.apache.org/licenses/LICENSE-2.0\n",
              "//\n",
              "// Unless required by applicable law or agreed to in writing, software\n",
              "// distributed under the License is distributed on an \"AS IS\" BASIS,\n",
              "// WITHOUT WARRANTIES OR CONDITIONS OF ANY KIND, either express or implied.\n",
              "// See the License for the specific language governing permissions and\n",
              "// limitations under the License.\n",
              "\n",
              "/**\n",
              " * @fileoverview Helpers for google.colab Python module.\n",
              " */\n",
              "(function(scope) {\n",
              "function span(text, styleAttributes = {}) {\n",
              "  const element = document.createElement('span');\n",
              "  element.textContent = text;\n",
              "  for (const key of Object.keys(styleAttributes)) {\n",
              "    element.style[key] = styleAttributes[key];\n",
              "  }\n",
              "  return element;\n",
              "}\n",
              "\n",
              "// Max number of bytes which will be uploaded at a time.\n",
              "const MAX_PAYLOAD_SIZE = 100 * 1024;\n",
              "\n",
              "function _uploadFiles(inputId, outputId) {\n",
              "  const steps = uploadFilesStep(inputId, outputId);\n",
              "  const outputElement = document.getElementById(outputId);\n",
              "  // Cache steps on the outputElement to make it available for the next call\n",
              "  // to uploadFilesContinue from Python.\n",
              "  outputElement.steps = steps;\n",
              "\n",
              "  return _uploadFilesContinue(outputId);\n",
              "}\n",
              "\n",
              "// This is roughly an async generator (not supported in the browser yet),\n",
              "// where there are multiple asynchronous steps and the Python side is going\n",
              "// to poll for completion of each step.\n",
              "// This uses a Promise to block the python side on completion of each step,\n",
              "// then passes the result of the previous step as the input to the next step.\n",
              "function _uploadFilesContinue(outputId) {\n",
              "  const outputElement = document.getElementById(outputId);\n",
              "  const steps = outputElement.steps;\n",
              "\n",
              "  const next = steps.next(outputElement.lastPromiseValue);\n",
              "  return Promise.resolve(next.value.promise).then((value) => {\n",
              "    // Cache the last promise value to make it available to the next\n",
              "    // step of the generator.\n",
              "    outputElement.lastPromiseValue = value;\n",
              "    return next.value.response;\n",
              "  });\n",
              "}\n",
              "\n",
              "/**\n",
              " * Generator function which is called between each async step of the upload\n",
              " * process.\n",
              " * @param {string} inputId Element ID of the input file picker element.\n",
              " * @param {string} outputId Element ID of the output display.\n",
              " * @return {!Iterable<!Object>} Iterable of next steps.\n",
              " */\n",
              "function* uploadFilesStep(inputId, outputId) {\n",
              "  const inputElement = document.getElementById(inputId);\n",
              "  inputElement.disabled = false;\n",
              "\n",
              "  const outputElement = document.getElementById(outputId);\n",
              "  outputElement.innerHTML = '';\n",
              "\n",
              "  const pickedPromise = new Promise((resolve) => {\n",
              "    inputElement.addEventListener('change', (e) => {\n",
              "      resolve(e.target.files);\n",
              "    });\n",
              "  });\n",
              "\n",
              "  const cancel = document.createElement('button');\n",
              "  inputElement.parentElement.appendChild(cancel);\n",
              "  cancel.textContent = 'Cancel upload';\n",
              "  const cancelPromise = new Promise((resolve) => {\n",
              "    cancel.onclick = () => {\n",
              "      resolve(null);\n",
              "    };\n",
              "  });\n",
              "\n",
              "  // Wait for the user to pick the files.\n",
              "  const files = yield {\n",
              "    promise: Promise.race([pickedPromise, cancelPromise]),\n",
              "    response: {\n",
              "      action: 'starting',\n",
              "    }\n",
              "  };\n",
              "\n",
              "  cancel.remove();\n",
              "\n",
              "  // Disable the input element since further picks are not allowed.\n",
              "  inputElement.disabled = true;\n",
              "\n",
              "  if (!files) {\n",
              "    return {\n",
              "      response: {\n",
              "        action: 'complete',\n",
              "      }\n",
              "    };\n",
              "  }\n",
              "\n",
              "  for (const file of files) {\n",
              "    const li = document.createElement('li');\n",
              "    li.append(span(file.name, {fontWeight: 'bold'}));\n",
              "    li.append(span(\n",
              "        `(${file.type || 'n/a'}) - ${file.size} bytes, ` +\n",
              "        `last modified: ${\n",
              "            file.lastModifiedDate ? file.lastModifiedDate.toLocaleDateString() :\n",
              "                                    'n/a'} - `));\n",
              "    const percent = span('0% done');\n",
              "    li.appendChild(percent);\n",
              "\n",
              "    outputElement.appendChild(li);\n",
              "\n",
              "    const fileDataPromise = new Promise((resolve) => {\n",
              "      const reader = new FileReader();\n",
              "      reader.onload = (e) => {\n",
              "        resolve(e.target.result);\n",
              "      };\n",
              "      reader.readAsArrayBuffer(file);\n",
              "    });\n",
              "    // Wait for the data to be ready.\n",
              "    let fileData = yield {\n",
              "      promise: fileDataPromise,\n",
              "      response: {\n",
              "        action: 'continue',\n",
              "      }\n",
              "    };\n",
              "\n",
              "    // Use a chunked sending to avoid message size limits. See b/62115660.\n",
              "    let position = 0;\n",
              "    do {\n",
              "      const length = Math.min(fileData.byteLength - position, MAX_PAYLOAD_SIZE);\n",
              "      const chunk = new Uint8Array(fileData, position, length);\n",
              "      position += length;\n",
              "\n",
              "      const base64 = btoa(String.fromCharCode.apply(null, chunk));\n",
              "      yield {\n",
              "        response: {\n",
              "          action: 'append',\n",
              "          file: file.name,\n",
              "          data: base64,\n",
              "        },\n",
              "      };\n",
              "\n",
              "      let percentDone = fileData.byteLength === 0 ?\n",
              "          100 :\n",
              "          Math.round((position / fileData.byteLength) * 100);\n",
              "      percent.textContent = `${percentDone}% done`;\n",
              "\n",
              "    } while (position < fileData.byteLength);\n",
              "  }\n",
              "\n",
              "  // All done.\n",
              "  yield {\n",
              "    response: {\n",
              "      action: 'complete',\n",
              "    }\n",
              "  };\n",
              "}\n",
              "\n",
              "scope.google = scope.google || {};\n",
              "scope.google.colab = scope.google.colab || {};\n",
              "scope.google.colab._files = {\n",
              "  _uploadFiles,\n",
              "  _uploadFilesContinue,\n",
              "};\n",
              "})(self);\n",
              "</script> "
            ]
          },
          "metadata": {}
        },
        {
          "output_type": "stream",
          "name": "stdout",
          "text": [
            "Saving kaggle.json to kaggle.json\n"
          ]
        },
        {
          "output_type": "execute_result",
          "data": {
            "text/plain": [
              "{'kaggle.json': b'{\"username\":\"najlafathi\",\"key\":\"63a7c6ccd622e3ecfa0bfb8ed7876fe5\"}'}"
            ]
          },
          "metadata": {},
          "execution_count": 1
        }
      ],
      "source": [
        "from google.colab import files\n",
        "files.upload()"
      ]
    },
    {
      "cell_type": "code",
      "source": [],
      "metadata": {
        "id": "Q43D8ofTjOqD"
      },
      "execution_count": null,
      "outputs": []
    },
    {
      "cell_type": "code",
      "execution_count": 2,
      "metadata": {
        "id": "8kkcjps8R5tJ",
        "colab": {
          "base_uri": "https://localhost:8080/"
        },
        "outputId": "ec03da4d-7d9f-4c14-8b3c-499727d35d45"
      },
      "outputs": [
        {
          "output_type": "stream",
          "name": "stdout",
          "text": [
            "Requirement already satisfied: kaggle in /usr/local/lib/python3.12/dist-packages (1.7.4.5)\n",
            "Requirement already satisfied: bleach in /usr/local/lib/python3.12/dist-packages (from kaggle) (6.2.0)\n",
            "Requirement already satisfied: certifi>=14.05.14 in /usr/local/lib/python3.12/dist-packages (from kaggle) (2025.8.3)\n",
            "Requirement already satisfied: charset-normalizer in /usr/local/lib/python3.12/dist-packages (from kaggle) (3.4.3)\n",
            "Requirement already satisfied: idna in /usr/local/lib/python3.12/dist-packages (from kaggle) (3.10)\n",
            "Requirement already satisfied: protobuf in /usr/local/lib/python3.12/dist-packages (from kaggle) (5.29.5)\n",
            "Requirement already satisfied: python-dateutil>=2.5.3 in /usr/local/lib/python3.12/dist-packages (from kaggle) (2.9.0.post0)\n",
            "Requirement already satisfied: python-slugify in /usr/local/lib/python3.12/dist-packages (from kaggle) (8.0.4)\n",
            "Requirement already satisfied: requests in /usr/local/lib/python3.12/dist-packages (from kaggle) (2.32.4)\n",
            "Requirement already satisfied: setuptools>=21.0.0 in /usr/local/lib/python3.12/dist-packages (from kaggle) (75.2.0)\n",
            "Requirement already satisfied: six>=1.10 in /usr/local/lib/python3.12/dist-packages (from kaggle) (1.17.0)\n",
            "Requirement already satisfied: text-unidecode in /usr/local/lib/python3.12/dist-packages (from kaggle) (1.3)\n",
            "Requirement already satisfied: tqdm in /usr/local/lib/python3.12/dist-packages (from kaggle) (4.67.1)\n",
            "Requirement already satisfied: urllib3>=1.15.1 in /usr/local/lib/python3.12/dist-packages (from kaggle) (2.5.0)\n",
            "Requirement already satisfied: webencodings in /usr/local/lib/python3.12/dist-packages (from kaggle) (0.5.1)\n"
          ]
        }
      ],
      "source": [
        "!pip install kaggle\n",
        "!mkdir -p ~/.kaggle\n",
        "!mv kaggle.json ~/.kaggle\n",
        "!chmod 600  ~/.kaggle/kaggle.json"
      ]
    },
    {
      "cell_type": "code",
      "execution_count": 3,
      "metadata": {
        "id": "PoUSyBUDUi0f",
        "colab": {
          "base_uri": "https://localhost:8080/"
        },
        "outputId": "ec84ceae-2519-4b22-ba6b-fe22d4d090b0"
      },
      "outputs": [
        {
          "output_type": "stream",
          "name": "stdout",
          "text": [
            "Dataset URL: https://www.kaggle.com/datasets/fedesoriano/stroke-prediction-dataset\n",
            "License(s): copyright-authors\n",
            "Downloading stroke-prediction-dataset.zip to /content\n",
            "  0% 0.00/67.4k [00:00<?, ?B/s]\n",
            "100% 67.4k/67.4k [00:00<00:00, 227MB/s]\n",
            "Archive:  stroke-prediction-dataset.zip\n",
            "  inflating: healthcare-dataset-stroke-data.csv  \n"
          ]
        }
      ],
      "source": [
        "!kaggle datasets download -d fedesoriano/stroke-prediction-dataset\n",
        "!unzip stroke-prediction-dataset.zip"
      ]
    },
    {
      "cell_type": "code",
      "execution_count": 4,
      "metadata": {
        "id": "UDQi8IsGR_HF"
      },
      "outputs": [],
      "source": [
        "import pandas as pd\n",
        "df=pd.read_csv(\"healthcare-dataset-stroke-data.csv\")"
      ]
    },
    {
      "cell_type": "code",
      "execution_count": 5,
      "metadata": {
        "id": "DMPQ4z7uR3X_",
        "colab": {
          "base_uri": "https://localhost:8080/"
        },
        "outputId": "432b2caf-431d-49b6-c1a0-50c16fceb695"
      },
      "outputs": [
        {
          "output_type": "stream",
          "name": "stdout",
          "text": [
            "      id  gender   age  hypertension  heart_disease ever_married  \\\n",
            "0   9046    Male  67.0             0              1          Yes   \n",
            "1  51676  Female  61.0             0              0          Yes   \n",
            "2  31112    Male  80.0             0              1          Yes   \n",
            "3  60182  Female  49.0             0              0          Yes   \n",
            "4   1665  Female  79.0             1              0          Yes   \n",
            "\n",
            "       work_type Residence_type  avg_glucose_level   bmi   smoking_status  \\\n",
            "0        Private          Urban             228.69  36.6  formerly smoked   \n",
            "1  Self-employed          Rural             202.21   NaN     never smoked   \n",
            "2        Private          Rural             105.92  32.5     never smoked   \n",
            "3        Private          Urban             171.23  34.4           smokes   \n",
            "4  Self-employed          Rural             174.12  24.0     never smoked   \n",
            "\n",
            "   stroke  \n",
            "0       1  \n",
            "1       1  \n",
            "2       1  \n",
            "3       1  \n",
            "4       1   Index(['id', 'gender', 'age', 'hypertension', 'heart_disease', 'ever_married',\n",
            "       'work_type', 'Residence_type', 'avg_glucose_level', 'bmi',\n",
            "       'smoking_status', 'stroke'],\n",
            "      dtype='object') stroke\n",
            "0    0.951272\n",
            "1    0.048728\n",
            "Name: proportion, dtype: float64\n"
          ]
        }
      ],
      "source": [
        "print(df.head(),df.columns,df[\"stroke\"].value_counts(normalize=True))\n",
        "\n"
      ]
    },
    {
      "cell_type": "code",
      "execution_count": 6,
      "metadata": {
        "id": "ETwv_HxtYM-X"
      },
      "outputs": [],
      "source": [
        "\n",
        "x=df.drop(\"stroke\", axis=1)\n",
        "y=df[\"stroke\"]"
      ]
    },
    {
      "cell_type": "code",
      "execution_count": 7,
      "metadata": {
        "id": "54_CAnB8cTkp",
        "colab": {
          "base_uri": "https://localhost:8080/"
        },
        "outputId": "9b2cce1c-41ad-4016-e9d5-99a9f8654c2a"
      },
      "outputs": [
        {
          "output_type": "execute_result",
          "data": {
            "text/plain": [
              "(5110, 11)"
            ]
          },
          "metadata": {},
          "execution_count": 7
        }
      ],
      "source": [
        "x.shape"
      ]
    },
    {
      "cell_type": "code",
      "execution_count": null,
      "metadata": {
        "id": "CIp8mPhOcYGH",
        "colab": {
          "base_uri": "https://localhost:8080/"
        },
        "outputId": "f82826eb-67ab-4901-f620-ca1237d154e5"
      },
      "outputs": [
        {
          "output_type": "execute_result",
          "data": {
            "text/plain": [
              "(5110,)"
            ]
          },
          "metadata": {},
          "execution_count": 8
        }
      ],
      "source": [
        "y.shape"
      ]
    },
    {
      "cell_type": "code",
      "execution_count": 8,
      "metadata": {
        "id": "E0YXG7fHjAkp",
        "colab": {
          "base_uri": "https://localhost:8080/",
          "height": 460
        },
        "outputId": "be72875d-ff53-439a-e410-7cdd46d4ae9e"
      },
      "outputs": [
        {
          "output_type": "execute_result",
          "data": {
            "text/plain": [
              "id                     0\n",
              "gender                 0\n",
              "age                    0\n",
              "hypertension           0\n",
              "heart_disease          0\n",
              "ever_married           0\n",
              "work_type              0\n",
              "Residence_type         0\n",
              "avg_glucose_level      0\n",
              "bmi                  201\n",
              "smoking_status         0\n",
              "stroke                 0\n",
              "dtype: int64"
            ],
            "text/html": [
              "<div>\n",
              "<style scoped>\n",
              "    .dataframe tbody tr th:only-of-type {\n",
              "        vertical-align: middle;\n",
              "    }\n",
              "\n",
              "    .dataframe tbody tr th {\n",
              "        vertical-align: top;\n",
              "    }\n",
              "\n",
              "    .dataframe thead th {\n",
              "        text-align: right;\n",
              "    }\n",
              "</style>\n",
              "<table border=\"1\" class=\"dataframe\">\n",
              "  <thead>\n",
              "    <tr style=\"text-align: right;\">\n",
              "      <th></th>\n",
              "      <th>0</th>\n",
              "    </tr>\n",
              "  </thead>\n",
              "  <tbody>\n",
              "    <tr>\n",
              "      <th>id</th>\n",
              "      <td>0</td>\n",
              "    </tr>\n",
              "    <tr>\n",
              "      <th>gender</th>\n",
              "      <td>0</td>\n",
              "    </tr>\n",
              "    <tr>\n",
              "      <th>age</th>\n",
              "      <td>0</td>\n",
              "    </tr>\n",
              "    <tr>\n",
              "      <th>hypertension</th>\n",
              "      <td>0</td>\n",
              "    </tr>\n",
              "    <tr>\n",
              "      <th>heart_disease</th>\n",
              "      <td>0</td>\n",
              "    </tr>\n",
              "    <tr>\n",
              "      <th>ever_married</th>\n",
              "      <td>0</td>\n",
              "    </tr>\n",
              "    <tr>\n",
              "      <th>work_type</th>\n",
              "      <td>0</td>\n",
              "    </tr>\n",
              "    <tr>\n",
              "      <th>Residence_type</th>\n",
              "      <td>0</td>\n",
              "    </tr>\n",
              "    <tr>\n",
              "      <th>avg_glucose_level</th>\n",
              "      <td>0</td>\n",
              "    </tr>\n",
              "    <tr>\n",
              "      <th>bmi</th>\n",
              "      <td>201</td>\n",
              "    </tr>\n",
              "    <tr>\n",
              "      <th>smoking_status</th>\n",
              "      <td>0</td>\n",
              "    </tr>\n",
              "    <tr>\n",
              "      <th>stroke</th>\n",
              "      <td>0</td>\n",
              "    </tr>\n",
              "  </tbody>\n",
              "</table>\n",
              "</div><br><label><b>dtype:</b> int64</label>"
            ]
          },
          "metadata": {},
          "execution_count": 8
        }
      ],
      "source": [
        "df.isnull().sum()"
      ]
    },
    {
      "cell_type": "code",
      "execution_count": 9,
      "metadata": {
        "id": "NzihBM4Nma0Q",
        "colab": {
          "base_uri": "https://localhost:8080/"
        },
        "outputId": "1e8419c2-41d4-43a1-96e9-247817ea3582"
      },
      "outputs": [
        {
          "output_type": "stream",
          "name": "stdout",
          "text": [
            "BMI missing percentage: 3.93%\n"
          ]
        }
      ],
      "source": [
        "missing_counts=df.isnull().sum()\n",
        "total_counts=len(df)\n",
        "missing_percent=(missing_counts/total_counts)*100\n",
        "print(f\"BMI missing percentage: {missing_percent['bmi']:.2f}%\")"
      ]
    },
    {
      "cell_type": "code",
      "execution_count": 10,
      "metadata": {
        "id": "78tbYT4kNzdu",
        "colab": {
          "base_uri": "https://localhost:8080/"
        },
        "outputId": "0f93d63c-9b02-4323-af46-a125817e8fd5"
      },
      "outputs": [
        {
          "output_type": "execute_result",
          "data": {
            "text/plain": [
              "np.int64(201)"
            ]
          },
          "metadata": {},
          "execution_count": 10
        }
      ],
      "source": [
        "df[\"bmi\"].isnull().sum()"
      ]
    },
    {
      "cell_type": "code",
      "execution_count": 11,
      "metadata": {
        "id": "dbSW8UlYOmef",
        "colab": {
          "base_uri": "https://localhost:8080/"
        },
        "outputId": "198ef57e-7eca-4e43-837a-4f4b3690f5db"
      },
      "outputs": [
        {
          "output_type": "execute_result",
          "data": {
            "text/plain": [
              "5110"
            ]
          },
          "metadata": {},
          "execution_count": 11
        }
      ],
      "source": [
        "len(df)"
      ]
    },
    {
      "cell_type": "code",
      "execution_count": 12,
      "metadata": {
        "id": "Jb7BWwroj8Bz"
      },
      "outputs": [],
      "source": [
        "df_clean =df.dropna()"
      ]
    },
    {
      "cell_type": "code",
      "execution_count": 13,
      "metadata": {
        "id": "5soibJz9j8De",
        "colab": {
          "base_uri": "https://localhost:8080/"
        },
        "outputId": "ab8acb2b-d5c9-47e5-a853-be8ddcefc47e"
      },
      "outputs": [
        {
          "output_type": "stream",
          "name": "stdout",
          "text": [
            "0       36.600000\n",
            "1       28.893237\n",
            "2       32.500000\n",
            "3       34.400000\n",
            "4       24.000000\n",
            "          ...    \n",
            "5105    28.893237\n",
            "5106    40.000000\n",
            "5107    30.600000\n",
            "5108    25.600000\n",
            "5109    26.200000\n",
            "Name: bmi, Length: 5110, dtype: float64\n"
          ]
        }
      ],
      "source": [
        "df['bmi']=df['bmi'].fillna(df['bmi'].mean())\n",
        "print(df[\"bmi\"])"
      ]
    },
    {
      "cell_type": "code",
      "source": [
        "df.dtypes"
      ],
      "metadata": {
        "colab": {
          "base_uri": "https://localhost:8080/",
          "height": 460
        },
        "id": "6T72ffxEqKGj",
        "outputId": "7ea4ba60-20a1-44b8-cae1-58e52ede716f"
      },
      "execution_count": 14,
      "outputs": [
        {
          "output_type": "execute_result",
          "data": {
            "text/plain": [
              "id                     int64\n",
              "gender                object\n",
              "age                  float64\n",
              "hypertension           int64\n",
              "heart_disease          int64\n",
              "ever_married          object\n",
              "work_type             object\n",
              "Residence_type        object\n",
              "avg_glucose_level    float64\n",
              "bmi                  float64\n",
              "smoking_status        object\n",
              "stroke                 int64\n",
              "dtype: object"
            ],
            "text/html": [
              "<div>\n",
              "<style scoped>\n",
              "    .dataframe tbody tr th:only-of-type {\n",
              "        vertical-align: middle;\n",
              "    }\n",
              "\n",
              "    .dataframe tbody tr th {\n",
              "        vertical-align: top;\n",
              "    }\n",
              "\n",
              "    .dataframe thead th {\n",
              "        text-align: right;\n",
              "    }\n",
              "</style>\n",
              "<table border=\"1\" class=\"dataframe\">\n",
              "  <thead>\n",
              "    <tr style=\"text-align: right;\">\n",
              "      <th></th>\n",
              "      <th>0</th>\n",
              "    </tr>\n",
              "  </thead>\n",
              "  <tbody>\n",
              "    <tr>\n",
              "      <th>id</th>\n",
              "      <td>int64</td>\n",
              "    </tr>\n",
              "    <tr>\n",
              "      <th>gender</th>\n",
              "      <td>object</td>\n",
              "    </tr>\n",
              "    <tr>\n",
              "      <th>age</th>\n",
              "      <td>float64</td>\n",
              "    </tr>\n",
              "    <tr>\n",
              "      <th>hypertension</th>\n",
              "      <td>int64</td>\n",
              "    </tr>\n",
              "    <tr>\n",
              "      <th>heart_disease</th>\n",
              "      <td>int64</td>\n",
              "    </tr>\n",
              "    <tr>\n",
              "      <th>ever_married</th>\n",
              "      <td>object</td>\n",
              "    </tr>\n",
              "    <tr>\n",
              "      <th>work_type</th>\n",
              "      <td>object</td>\n",
              "    </tr>\n",
              "    <tr>\n",
              "      <th>Residence_type</th>\n",
              "      <td>object</td>\n",
              "    </tr>\n",
              "    <tr>\n",
              "      <th>avg_glucose_level</th>\n",
              "      <td>float64</td>\n",
              "    </tr>\n",
              "    <tr>\n",
              "      <th>bmi</th>\n",
              "      <td>float64</td>\n",
              "    </tr>\n",
              "    <tr>\n",
              "      <th>smoking_status</th>\n",
              "      <td>object</td>\n",
              "    </tr>\n",
              "    <tr>\n",
              "      <th>stroke</th>\n",
              "      <td>int64</td>\n",
              "    </tr>\n",
              "  </tbody>\n",
              "</table>\n",
              "</div><br><label><b>dtype:</b> object</label>"
            ]
          },
          "metadata": {},
          "execution_count": 14
        }
      ]
    },
    {
      "cell_type": "code",
      "source": [
        "df=pd.get_dummies(df,drop_first=True)\n",
        "df.dtypes"
      ],
      "metadata": {
        "colab": {
          "base_uri": "https://localhost:8080/",
          "height": 648
        },
        "id": "QTgpL6Qvzshe",
        "outputId": "f0772c35-d182-4b75-f86e-c3d9d90e4e24"
      },
      "execution_count": 15,
      "outputs": [
        {
          "output_type": "execute_result",
          "data": {
            "text/plain": [
              "id                                  int64\n",
              "age                               float64\n",
              "hypertension                        int64\n",
              "heart_disease                       int64\n",
              "avg_glucose_level                 float64\n",
              "bmi                               float64\n",
              "stroke                              int64\n",
              "gender_Male                          bool\n",
              "gender_Other                         bool\n",
              "ever_married_Yes                     bool\n",
              "work_type_Never_worked               bool\n",
              "work_type_Private                    bool\n",
              "work_type_Self-employed              bool\n",
              "work_type_children                   bool\n",
              "Residence_type_Urban                 bool\n",
              "smoking_status_formerly smoked       bool\n",
              "smoking_status_never smoked          bool\n",
              "smoking_status_smokes                bool\n",
              "dtype: object"
            ],
            "text/html": [
              "<div>\n",
              "<style scoped>\n",
              "    .dataframe tbody tr th:only-of-type {\n",
              "        vertical-align: middle;\n",
              "    }\n",
              "\n",
              "    .dataframe tbody tr th {\n",
              "        vertical-align: top;\n",
              "    }\n",
              "\n",
              "    .dataframe thead th {\n",
              "        text-align: right;\n",
              "    }\n",
              "</style>\n",
              "<table border=\"1\" class=\"dataframe\">\n",
              "  <thead>\n",
              "    <tr style=\"text-align: right;\">\n",
              "      <th></th>\n",
              "      <th>0</th>\n",
              "    </tr>\n",
              "  </thead>\n",
              "  <tbody>\n",
              "    <tr>\n",
              "      <th>id</th>\n",
              "      <td>int64</td>\n",
              "    </tr>\n",
              "    <tr>\n",
              "      <th>age</th>\n",
              "      <td>float64</td>\n",
              "    </tr>\n",
              "    <tr>\n",
              "      <th>hypertension</th>\n",
              "      <td>int64</td>\n",
              "    </tr>\n",
              "    <tr>\n",
              "      <th>heart_disease</th>\n",
              "      <td>int64</td>\n",
              "    </tr>\n",
              "    <tr>\n",
              "      <th>avg_glucose_level</th>\n",
              "      <td>float64</td>\n",
              "    </tr>\n",
              "    <tr>\n",
              "      <th>bmi</th>\n",
              "      <td>float64</td>\n",
              "    </tr>\n",
              "    <tr>\n",
              "      <th>stroke</th>\n",
              "      <td>int64</td>\n",
              "    </tr>\n",
              "    <tr>\n",
              "      <th>gender_Male</th>\n",
              "      <td>bool</td>\n",
              "    </tr>\n",
              "    <tr>\n",
              "      <th>gender_Other</th>\n",
              "      <td>bool</td>\n",
              "    </tr>\n",
              "    <tr>\n",
              "      <th>ever_married_Yes</th>\n",
              "      <td>bool</td>\n",
              "    </tr>\n",
              "    <tr>\n",
              "      <th>work_type_Never_worked</th>\n",
              "      <td>bool</td>\n",
              "    </tr>\n",
              "    <tr>\n",
              "      <th>work_type_Private</th>\n",
              "      <td>bool</td>\n",
              "    </tr>\n",
              "    <tr>\n",
              "      <th>work_type_Self-employed</th>\n",
              "      <td>bool</td>\n",
              "    </tr>\n",
              "    <tr>\n",
              "      <th>work_type_children</th>\n",
              "      <td>bool</td>\n",
              "    </tr>\n",
              "    <tr>\n",
              "      <th>Residence_type_Urban</th>\n",
              "      <td>bool</td>\n",
              "    </tr>\n",
              "    <tr>\n",
              "      <th>smoking_status_formerly smoked</th>\n",
              "      <td>bool</td>\n",
              "    </tr>\n",
              "    <tr>\n",
              "      <th>smoking_status_never smoked</th>\n",
              "      <td>bool</td>\n",
              "    </tr>\n",
              "    <tr>\n",
              "      <th>smoking_status_smokes</th>\n",
              "      <td>bool</td>\n",
              "    </tr>\n",
              "  </tbody>\n",
              "</table>\n",
              "</div><br><label><b>dtype:</b> object</label>"
            ]
          },
          "metadata": {},
          "execution_count": 15
        }
      ]
    },
    {
      "cell_type": "code",
      "source": [],
      "metadata": {
        "id": "6J0RR6Ug28Zf"
      },
      "execution_count": null,
      "outputs": []
    },
    {
      "cell_type": "code",
      "source": [
        "print(df.select_dtypes(exclude=[\"int64\",\"float64\",\"bool\"]).columns)"
      ],
      "metadata": {
        "colab": {
          "base_uri": "https://localhost:8080/"
        },
        "id": "ZxK1e-aZCaCf",
        "outputId": "93807619-5779-4fae-d5bf-7ba0dd821582"
      },
      "execution_count": 16,
      "outputs": [
        {
          "output_type": "stream",
          "name": "stdout",
          "text": [
            "Index([], dtype='object')\n"
          ]
        }
      ]
    },
    {
      "cell_type": "code",
      "source": [
        "df=df.astype(int)"
      ],
      "metadata": {
        "id": "qHFbj_OpI8pl"
      },
      "execution_count": 17,
      "outputs": []
    },
    {
      "cell_type": "code",
      "source": [
        "x=df.drop(\"stroke\", axis=1)\n",
        "y=df[\"stroke\"]"
      ],
      "metadata": {
        "id": "wM5vyb8XLIne"
      },
      "execution_count": 18,
      "outputs": []
    },
    {
      "cell_type": "code",
      "source": [
        "from sklearn.model_selection import train_test_split\n",
        "x_train, x_test, y_train, y_test= train_test_split(x,y, test_size=0.2, random_state=42)"
      ],
      "metadata": {
        "id": "IAagsHg7Ij6r"
      },
      "execution_count": 19,
      "outputs": []
    },
    {
      "cell_type": "code",
      "source": [
        "from sklearn.preprocessing import StandardScaler\n",
        "scaler =StandardScaler()\n",
        "x_train_scaled= scaler.fit_transform(x_train)\n",
        "x_test_scaled= scaler.transform(x_test)"
      ],
      "metadata": {
        "id": "DDWpRP4RTUt0"
      },
      "execution_count": 20,
      "outputs": []
    },
    {
      "cell_type": "code",
      "source": [
        "from sklearn.linear_model import LogisticRegression\n",
        "logi= LogisticRegression(max_iter=1000)\n",
        "logi.fit(x_train,y_train)\n",
        "y_pred=logi.predict(x_test)\n",
        "y_pred_prob=logi.predict_proba(x_test)[0:1]"
      ],
      "metadata": {
        "id": "x0JSgcXaU-Yz",
        "colab": {
          "base_uri": "https://localhost:8080/"
        },
        "outputId": "c6b23724-1d00-4f12-fd93-b33fb5cebf46"
      },
      "execution_count": 21,
      "outputs": [
        {
          "output_type": "stream",
          "name": "stderr",
          "text": [
            "/usr/local/lib/python3.12/dist-packages/sklearn/linear_model/_logistic.py:465: ConvergenceWarning: lbfgs failed to converge (status=1):\n",
            "STOP: TOTAL NO. OF ITERATIONS REACHED LIMIT.\n",
            "\n",
            "Increase the number of iterations (max_iter) or scale the data as shown in:\n",
            "    https://scikit-learn.org/stable/modules/preprocessing.html\n",
            "Please also refer to the documentation for alternative solver options:\n",
            "    https://scikit-learn.org/stable/modules/linear_model.html#logistic-regression\n",
            "  n_iter_i = _check_optimize_result(\n"
          ]
        }
      ]
    },
    {
      "cell_type": "code",
      "source": [
        "from sklearn.metrics import accuracy_score, confusion_matrix, classification_report\n",
        "print(\"Accuracy\", accuracy_score(y_test,y_pred))\n",
        "print(\"ClassificationReport\" , classification_report(y_test,y_pred))\n",
        "print(\"ConfusionMatrix\", confusion_matrix(y_test,y_pred))"
      ],
      "metadata": {
        "colab": {
          "base_uri": "https://localhost:8080/"
        },
        "id": "Vh_TfwYNephR",
        "outputId": "6e3f56c8-9bc1-4fe8-9a7d-03d7f84b9cbc"
      },
      "execution_count": 22,
      "outputs": [
        {
          "output_type": "stream",
          "name": "stdout",
          "text": [
            "Accuracy 0.9393346379647749\n",
            "ClassificationReport               precision    recall  f1-score   support\n",
            "\n",
            "           0       0.94      1.00      0.97       960\n",
            "           1       0.00      0.00      0.00        62\n",
            "\n",
            "    accuracy                           0.94      1022\n",
            "   macro avg       0.47      0.50      0.48      1022\n",
            "weighted avg       0.88      0.94      0.91      1022\n",
            "\n",
            "ConfusionMatrix [[960   0]\n",
            " [ 62   0]]\n"
          ]
        },
        {
          "output_type": "stream",
          "name": "stderr",
          "text": [
            "/usr/local/lib/python3.12/dist-packages/sklearn/metrics/_classification.py:1565: UndefinedMetricWarning: Precision is ill-defined and being set to 0.0 in labels with no predicted samples. Use `zero_division` parameter to control this behavior.\n",
            "  _warn_prf(average, modifier, f\"{metric.capitalize()} is\", len(result))\n",
            "/usr/local/lib/python3.12/dist-packages/sklearn/metrics/_classification.py:1565: UndefinedMetricWarning: Precision is ill-defined and being set to 0.0 in labels with no predicted samples. Use `zero_division` parameter to control this behavior.\n",
            "  _warn_prf(average, modifier, f\"{metric.capitalize()} is\", len(result))\n",
            "/usr/local/lib/python3.12/dist-packages/sklearn/metrics/_classification.py:1565: UndefinedMetricWarning: Precision is ill-defined and being set to 0.0 in labels with no predicted samples. Use `zero_division` parameter to control this behavior.\n",
            "  _warn_prf(average, modifier, f\"{metric.capitalize()} is\", len(result))\n"
          ]
        }
      ]
    },
    {
      "cell_type": "code",
      "source": [
        "X=df.drop('stroke', axis=1)\n",
        "y=df[\"stroke\"]"
      ],
      "metadata": {
        "id": "l_-kw2CEx253"
      },
      "execution_count": 23,
      "outputs": []
    },
    {
      "cell_type": "code",
      "source": [
        "from sklearn.model_selection import train_test_split\n",
        "X_train,X_test, y_train, y_test=train_test_split(X,y, random_state=42, test_size=0.2)\n"
      ],
      "metadata": {
        "id": "yMkAY-TgyFHt"
      },
      "execution_count": 24,
      "outputs": []
    },
    {
      "cell_type": "code",
      "source": [
        "from sklearn.preprocessing import StandardScaler\n",
        "scaler=StandardScaler()\n",
        "X_train_s= scaler.fit_transform(X_train)\n",
        "X_test_s=scaler.transform(X_test)"
      ],
      "metadata": {
        "id": "BCtm3_IgyyjG"
      },
      "execution_count": 25,
      "outputs": []
    },
    {
      "cell_type": "code",
      "source": [
        "from sklearn.linear_model import LogisticRegression\n",
        "logi=LogisticRegression(max_iter=2000, class_weight=\"balanced\" , solver=\"lbfgs\")\n",
        "logi.fit(X_train_s,y_train)\n",
        "y_pred_prob= logi.predict_proba(X_test_s)[:,1]"
      ],
      "metadata": {
        "id": "tDshCyR029xO"
      },
      "execution_count": 26,
      "outputs": []
    },
    {
      "cell_type": "code",
      "source": [
        "from sklearn.metrics import classification_report,confusion_matrix, accuracy_score, roc_auc_score, roc_curve\n",
        "y_pred_prob= logi.predict_proba(X_test_s)[0:,1]\n",
        "y_pred=(y_pred_prob>= 0.5).astype(int)\n",
        "print(\"Classification report\",classification_report(y_test, y_pred))\n",
        "print(\"Confusion matix\",confusion_matrix(y_test, y_pred))\n",
        "print(\"Accuracy score\",accuracy_score(y_test, y_pred))\n",
        "print(\"Roc-auc-score\",roc_auc_score(y_test, y_pred_prob))"
      ],
      "metadata": {
        "id": "oVQ8zG0UR_C6",
        "colab": {
          "base_uri": "https://localhost:8080/"
        },
        "outputId": "c79c7c9a-324c-44ec-b310-0876a5446b4b"
      },
      "execution_count": 27,
      "outputs": [
        {
          "output_type": "stream",
          "name": "stdout",
          "text": [
            "Classification report               precision    recall  f1-score   support\n",
            "\n",
            "           0       0.98      0.74      0.84       960\n",
            "           1       0.17      0.81      0.28        62\n",
            "\n",
            "    accuracy                           0.74      1022\n",
            "   macro avg       0.58      0.77      0.56      1022\n",
            "weighted avg       0.93      0.74      0.81      1022\n",
            "\n",
            "Confusion matix [[710 250]\n",
            " [ 12  50]]\n",
            "Accuracy score 0.7436399217221135\n",
            "Roc-auc-score 0.8515120967741935\n"
          ]
        }
      ]
    },
    {
      "cell_type": "code",
      "source": [
        "X=df.drop(\"stroke\", axis=1)\n",
        "y=df[\"stroke\"]"
      ],
      "metadata": {
        "id": "lFUgTFQf6eF6"
      },
      "execution_count": 31,
      "outputs": []
    },
    {
      "cell_type": "code",
      "source": [
        "from sklearn.model_selection import train_test_split\n",
        "X_train, X_test , y_train, y_test= train_test_split(X, y, test_size=0.2 , random_state= 42)\n"
      ],
      "metadata": {
        "id": "FU6f9WkP6137"
      },
      "execution_count": 32,
      "outputs": []
    },
    {
      "cell_type": "code",
      "source": [
        "y_test.shape"
      ],
      "metadata": {
        "colab": {
          "base_uri": "https://localhost:8080/"
        },
        "id": "4UfLGBbBIUQo",
        "outputId": "6da3ef47-4b9f-48d2-9eb1-76b4491dc3de"
      },
      "execution_count": null,
      "outputs": [
        {
          "output_type": "execute_result",
          "data": {
            "text/plain": [
              "(1022,)"
            ]
          },
          "metadata": {},
          "execution_count": 30
        }
      ]
    },
    {
      "cell_type": "code",
      "source": [
        "y_test.dtype"
      ],
      "metadata": {
        "colab": {
          "base_uri": "https://localhost:8080/"
        },
        "id": "pdlw8ZUiKHZb",
        "outputId": "202b25cf-7a6b-4cf8-c4e4-2d4e88f8964f"
      },
      "execution_count": null,
      "outputs": [
        {
          "output_type": "execute_result",
          "data": {
            "text/plain": [
              "dtype('int64')"
            ]
          },
          "metadata": {},
          "execution_count": 28
        }
      ]
    },
    {
      "cell_type": "code",
      "source": [
        "from sklearn.linear_model import LogisticRegression\n",
        "import numpy as np\n",
        "from sklearn.metrics import  accuracy_score ,classification_report,confusion_matrix,roc_auc_score\n",
        "model_balanced= LogisticRegression(max_iter= 1000 ,class_weight=\"balanced\", solver=\"liblinear\", random_state=42)\n",
        "model_balanced.fit(X_train, y_train)\n",
        "y_pred_bal= model_balanced.predict(X_test)\n",
        "y_pred_prob_bal = model_balanced.predict_proba(X_test)[:,1]\n",
        "y_pred_prob_bal.shape\n",
        "\n"
      ],
      "metadata": {
        "colab": {
          "base_uri": "https://localhost:8080/"
        },
        "id": "2sqfdsoM5yhl",
        "outputId": "d4b74df2-a365-447a-f1e5-8898b2c08e68"
      },
      "execution_count": 33,
      "outputs": [
        {
          "output_type": "execute_result",
          "data": {
            "text/plain": [
              "(1022,)"
            ]
          },
          "metadata": {},
          "execution_count": 33
        }
      ]
    },
    {
      "cell_type": "code",
      "source": [
        "print(df[\"stroke\"].value_counts(normalize=True))"
      ],
      "metadata": {
        "colab": {
          "base_uri": "https://localhost:8080/"
        },
        "id": "y2CLQARjP87a",
        "outputId": "6196e2bb-7e1d-4be2-d78d-1bbe9c6c12bf"
      },
      "execution_count": 34,
      "outputs": [
        {
          "output_type": "stream",
          "name": "stdout",
          "text": [
            "stroke\n",
            "0    0.951272\n",
            "1    0.048728\n",
            "Name: proportion, dtype: float64\n"
          ]
        }
      ]
    },
    {
      "cell_type": "code",
      "source": [
        "print(\"Accuracy score\", accuracy_score(y_test,y_pred_bal))\n",
        "print(\"Classification Report\", classification_report(y_test,y_pred_bal))\n",
        "print(\"Confusion matrix\",confusion_matrix(y_test,y_pred_bal))\n",
        "print(\"ROC AUC\", roc_auc_score(y_test,y_pred_prob_bal))"
      ],
      "metadata": {
        "colab": {
          "base_uri": "https://localhost:8080/"
        },
        "id": "PE-pA4g8L3x6",
        "outputId": "ee25c256-d9ad-4663-8558-d03b5a70cc23"
      },
      "execution_count": 35,
      "outputs": [
        {
          "output_type": "stream",
          "name": "stdout",
          "text": [
            "Accuracy score 0.7436399217221135\n",
            "Classification Report               precision    recall  f1-score   support\n",
            "\n",
            "           0       0.98      0.74      0.84       960\n",
            "           1       0.16      0.79      0.27        62\n",
            "\n",
            "    accuracy                           0.74      1022\n",
            "   macro avg       0.57      0.77      0.56      1022\n",
            "weighted avg       0.93      0.74      0.81      1022\n",
            "\n",
            "Confusion matrix [[711 249]\n",
            " [ 13  49]]\n",
            "ROC AUC 0.8515961021505376\n"
          ]
        }
      ]
    },
    {
      "cell_type": "code",
      "source": [
        "import numpy as np\n",
        "\n",
        "print(np.unique(y_test))\n",
        "print(y_test.dtype)\n",
        "print(np.isnan(y_test).sum())\n"
      ],
      "metadata": {
        "id": "T29mlQnwOp2G",
        "colab": {
          "base_uri": "https://localhost:8080/"
        },
        "outputId": "909a3c98-12e4-420d-bf8c-dc7aaa000385"
      },
      "execution_count": 36,
      "outputs": [
        {
          "output_type": "stream",
          "name": "stdout",
          "text": [
            "[0 1]\n",
            "int64\n",
            "0\n"
          ]
        }
      ]
    },
    {
      "cell_type": "code",
      "source": [
        "import numpy as np\n",
        "from sklearn.metrics import precision_recall_curve , roc_auc_score\n",
        "y_pred_prob_bal=model_balanced.predict_proba(x_test)[:,1]\n",
        "precisions,recalls, thresholds = precision_recall_curve(y_test, y_pred_prob_bal)\n",
        "f1_scores=2*(precisions[:-1]*recalls[:-1])/(precisions[:-1]+recalls[:-1])\n",
        "best_idx=np.argmax(f1_scores)\n",
        "best_threshold=thresholds[best_idx]\n",
        "y_pred_opt= (y_pred_prob_bal>= best_threshold).astype(int)\n",
        "\n",
        "print(\"confusion matrix\", confusion_matrix(y_test, y_pred_opt))\n",
        "print(\"classification report\", classification_report(y_test, y_pred_opt))\n",
        "print(\"accuracy score\", accuracy_score(y_test, y_pred_opt))\n",
        "print(\"roc auc score\", roc_auc_score(y_test, y_pred_prob_bal))\n"
      ],
      "metadata": {
        "id": "CZl3CH3XkyXk",
        "colab": {
          "base_uri": "https://localhost:8080/"
        },
        "outputId": "138a8f6d-aa4f-4b2d-dfcf-ffc36e7b38ed"
      },
      "execution_count": 37,
      "outputs": [
        {
          "output_type": "stream",
          "name": "stdout",
          "text": [
            "confusion matrix [[958   2]\n",
            " [ 62   0]]\n",
            "classification report               precision    recall  f1-score   support\n",
            "\n",
            "           0       0.94      1.00      0.97       960\n",
            "           1       0.00      0.00      0.00        62\n",
            "\n",
            "    accuracy                           0.94      1022\n",
            "   macro avg       0.47      0.50      0.48      1022\n",
            "weighted avg       0.88      0.94      0.91      1022\n",
            "\n",
            "accuracy score 0.9373776908023483\n",
            "roc auc score 0.8515961021505376\n"
          ]
        },
        {
          "output_type": "stream",
          "name": "stderr",
          "text": [
            "/tmp/ipython-input-3822536191.py:5: RuntimeWarning: invalid value encountered in divide\n",
            "  f1_scores=2*(precisions[:-1]*recalls[:-1])/(precisions[:-1]+recalls[:-1])\n"
          ]
        }
      ]
    },
    {
      "cell_type": "code",
      "source": [
        "import matplotlib.pyplot as plt\n",
        "plt.plot(thresholds,f1_scores, color=\"green\", linestyle=\"--\")\n",
        "plt.axvline(best_threshold, color=\"red\", linestyle=\"--\", label=f\"best_threshold={thresholds[best_idx]:.2f}\")\n",
        "plt.xlabel(\"threshold\")\n",
        "plt.ylabel(\"f1-score\")\n",
        "plt.title(\"F1-score vs Threshold\")\n",
        "plt.legend()\n",
        "plt.show()\n"
      ],
      "metadata": {
        "colab": {
          "base_uri": "https://localhost:8080/",
          "height": 472
        },
        "id": "8lBsS0Bvrry5",
        "outputId": "095bffd9-d6e4-4ec4-8cb3-97f9c69e9f5b"
      },
      "execution_count": 38,
      "outputs": [
        {
          "output_type": "display_data",
          "data": {
            "text/plain": [
              "<Figure size 640x480 with 1 Axes>"
            ],
            "image/png": "[encoded data removed]"
          },
          "metadata": {}
        }
      ]
    },
    {
      "cell_type": "code",
      "source": [
        "plt.plot(precisions, recalls, color= \"red\",linestyle=\"--\")\n",
        "plt.xlabel(\"precision\")\n",
        "plt.ylabel(\"recall\")\n",
        "plt.title(\"Precision Recall Curve\")\n",
        "plt.show()"
      ],
      "metadata": {
        "colab": {
          "base_uri": "https://localhost:8080/",
          "height": 472
        },
        "id": "kiK1kQtFxM-q",
        "outputId": "6b1155d9-cc5e-4604-ee35-e647db971093"
      },
      "execution_count": 39,
      "outputs": [
        {
          "output_type": "display_data",
          "data": {
            "text/plain": [
              "<Figure size 640x480 with 1 Axes>"
            ],
            "image/png": "[encoded data removed]"
          },
          "metadata": {}
        }
      ]
    },
    {
      "cell_type": "code",
      "source": [
        "import numpy as np\n",
        "import pandas as pd\n",
        "coefficients= model_balanced.coef_[0]\n",
        "feature_importance=pd.DataFrame({\"feature\":X_train.columns, \"coefficient\":coefficients, \"abs_coefficient\": np.abs(coefficients)})\n",
        "feature_importance= feature_importance.sort_values(by=\"abs_coefficient\", ascending=False)\n",
        "print(feature_importance)"
      ],
      "metadata": {
        "colab": {
          "base_uri": "https://localhost:8080/"
        },
        "id": "YxyArfsJGw89",
        "outputId": "818a8dde-1e1a-420e-ce89-7547fa02e8ab"
      },
      "execution_count": 40,
      "outputs": [
        {
          "output_type": "stream",
          "name": "stdout",
          "text": [
            "                           feature  coefficient  abs_coefficient\n",
            "12              work_type_children     1.332941         1.332941\n",
            "2                     hypertension     0.524736         0.524736\n",
            "16           smoking_status_smokes     0.270474         0.270474\n",
            "8                 ever_married_Yes    -0.259774         0.259774\n",
            "3                    heart_disease     0.245899         0.245899\n",
            "15     smoking_status_never smoked    -0.230495         0.230495\n",
            "9           work_type_Never_worked    -0.178074         0.178074\n",
            "11         work_type_Self-employed    -0.141492         0.141492\n",
            "10               work_type_Private     0.126076         0.126076\n",
            "6                      gender_Male    -0.125309         0.125309\n",
            "1                              age     0.078701         0.078701\n",
            "13            Residence_type_Urban    -0.067230         0.067230\n",
            "14  smoking_status_formerly smoked    -0.035373         0.035373\n",
            "4                avg_glucose_level     0.004248         0.004248\n",
            "5                              bmi     0.001645         0.001645\n",
            "0                               id     0.000004         0.000004\n",
            "7                     gender_Other     0.000000         0.000000\n"
          ]
        }
      ]
    },
    {
      "cell_type": "code",
      "source": [
        "plt.barh(feature_importance[\"feature\"], feature_importance[\"abs_coefficient\"])\n",
        "plt.gca().invert_yaxis()\n",
        "plt.xlabel(\"coefficient\")\n",
        "plt.ylabel(\"feature\")\n",
        "plt.title(\"feature importance\")\n",
        "plt.show()"
      ],
      "metadata": {
        "colab": {
          "base_uri": "https://localhost:8080/",
          "height": 472
        },
        "id": "oW-oUBK-Qlnc",
        "outputId": "1392a9b4-4ac7-4231-f6b8-dd2eb1c20acf"
      },
      "execution_count": 41,
      "outputs": [
        {
          "output_type": "display_data",
          "data": {
            "text/plain": [
              "<Figure size 640x480 with 1 Axes>"
            ],
            "image/png": "[encoded data removed]"
          },
          "metadata": {}
        }
      ]
    },
    {
      "cell_type": "code",
      "source": [
        "import numpy as np\n",
        "import pandas as pd\n",
        "from sklearn.linear_model import LogisticRegression\n",
        "coefficients= model_balanced.coef_[0]\n",
        "feature_importance=pd.DataFrame({\"feature\":X_train.columns, \"coefficient\":coefficients, \"abs_coefficient\": np.abs(coefficients)})\n",
        "feature_importance= feature_importance.sort_values(by=\"abs_coefficient\", ascending=False)\n",
        "top_features=feature_importance.head(10)[\"feature\"].tolist()\n",
        "X_train_top=X_train[top_features]\n",
        "X_test_top=X_test[top_features]\n",
        "print(top_features)\n",
        "\n",
        "model_tp=LogisticRegression(max_iter=2000,random_state=42, class_weight=\"balanced\")\n",
        "model_tp.fit(X_train_top, y_train)\n",
        "y_pred_top =model_tp.predict(X_test_top)\n",
        "y_pred_top_prob =model_tp.predict_proba(X_test_top)[:,1]\n",
        "print(\"Accuracy\", accuracy_score(y_test,y_pred_top))\n",
        "print(\"ROC AUC\", roc_auc_score(y_test,y_pred_top_prob))\n",
        "print(\"Confusion matrix\",confusion_matrix(y_test,y_pred_top))\n",
        "print(\"classification report\", classification_report(y_test,y_pred_top))"
      ],
      "metadata": {
        "colab": {
          "base_uri": "https://localhost:8080/"
        },
        "id": "EfG4AcF-jRu9",
        "outputId": "0e3607da-f23d-4db2-e23c-1fd986b99496"
      },
      "execution_count": 42,
      "outputs": [
        {
          "output_type": "stream",
          "name": "stdout",
          "text": [
            "['work_type_children', 'hypertension', 'smoking_status_smokes', 'ever_married_Yes', 'heart_disease', 'smoking_status_never smoked', 'work_type_Never_worked', 'work_type_Self-employed', 'work_type_Private', 'gender_Male']\n",
            "Accuracy 0.6418786692759295\n",
            "ROC AUC 0.779544690860215\n",
            "Confusion matrix [[606 354]\n",
            " [ 12  50]]\n",
            "classification report               precision    recall  f1-score   support\n",
            "\n",
            "           0       0.98      0.63      0.77       960\n",
            "           1       0.12      0.81      0.21        62\n",
            "\n",
            "    accuracy                           0.64      1022\n",
            "   macro avg       0.55      0.72      0.49      1022\n",
            "weighted avg       0.93      0.64      0.73      1022\n",
            "\n"
          ]
        }
      ]
    },
    {
      "cell_type": "code",
      "source": [
        "\n"
      ],
      "metadata": {
        "id": "lgk7LN_No3Yt"
      },
      "execution_count": null,
      "outputs": []
    },
    {
      "cell_type": "code",
      "source": [
        "print(\"best threshold\", best_threshold )"
      ],
      "metadata": {
        "colab": {
          "base_uri": "https://localhost:8080/"
        },
        "id": "OBLr8X0DlYHc",
        "outputId": "08536736-6fdb-4910-c436-e25fb8c4bd02"
      },
      "execution_count": 43,
      "outputs": [
        {
          "output_type": "stream",
          "name": "stdout",
          "text": [
            "best threshold 0.9327090474849538\n"
          ]
        }
      ]
    },
    {
      "cell_type": "code",
      "source": [
        "import numpy as np\n",
        "from sklearn.metrics import precision_recall_curve, roc_auc_score, accuracy_score, confusion_matrix, classification_report\n",
        "\n",
        "probs = y_pred_top_prob\n",
        "precisions, recalls, thresholds = precision_recall_curve(y_test, probs)\n",
        "target_recall = 0.8\n",
        "idx = np.where(recalls[:-1] >= target_recall)[0]\n",
        "best_threshold_high = thresholds[idx[0]]\n",
        "y_pred_high = (probs >= best_threshold_high).astype(int)\n",
        "best_threshold_low = thresholds[idx[-1]]\n",
        "y_pred_low = (probs >= best_threshold_low).astype(int)\n",
        "for t, r in zip(thresholds, recalls[:-1]):\n",
        "    print(f\"Threshold: {t:.3f}, Recall: {r:.3f}\")\n",
        "print(\"All thresholds where recall >= 0.8:\")\n",
        "for i in idx:\n",
        "    print(f\"Index: {i}, Threshold: {thresholds[i]}, Recall: {recalls[i]}\")\n",
        "print(\"=== High Threshold (idx[0]) ===\")\n",
        "print(\"Threshold:\", best_threshold_high)\n",
        "print(\"ROC AUC:\", roc_auc_score(y_test, probs))\n",
        "print(\"Confusion Matrix:\\n\", confusion_matrix(y_test, y_pred_high))\n",
        "print(\"Classification Report:\\n\", classification_report(y_test, y_pred_high))\n",
        "print(\"Accuracy:\", accuracy_score(y_test, y_pred_high))\n",
        "print(\"\\n\")\n",
        "print(\"=== Low Threshold (idx[-1]) ===\")\n",
        "print(\"Threshold:\", best_threshold_low)\n",
        "print(\"ROC AUC:\", roc_auc_score(y_test, probs))\n",
        "print(\"Confusion Matrix:\\n\", confusion_matrix(y_test, y_pred_low))\n",
        "print(\"Classification Report:\\n\", classification_report(y_test, y_pred_low))\n",
        "print(\"Accuracy:\", accuracy_score(y_test, y_pred_low))\n",
        "print(\"\\n\")"
      ],
      "metadata": {
        "colab": {
          "base_uri": "https://localhost:8080/"
        },
        "id": "QOanvyBLEGqk",
        "outputId": "2ef480f0-e57e-4ee5-eb53-756273b51977"
      },
      "execution_count": 44,
      "outputs": [
        {
          "output_type": "stream",
          "name": "stdout",
          "text": [
            "Threshold: 0.061, Recall: 1.000\n",
            "Threshold: 0.064, Recall: 1.000\n",
            "Threshold: 0.076, Recall: 1.000\n",
            "Threshold: 0.081, Recall: 1.000\n",
            "Threshold: 0.101, Recall: 1.000\n",
            "Threshold: 0.243, Recall: 1.000\n",
            "Threshold: 0.254, Recall: 1.000\n",
            "Threshold: 0.257, Recall: 1.000\n",
            "Threshold: 0.260, Recall: 1.000\n",
            "Threshold: 0.263, Recall: 1.000\n",
            "Threshold: 0.272, Recall: 1.000\n",
            "Threshold: 0.275, Recall: 1.000\n",
            "Threshold: 0.291, Recall: 1.000\n",
            "Threshold: 0.304, Recall: 1.000\n",
            "Threshold: 0.310, Recall: 1.000\n",
            "Threshold: 0.324, Recall: 1.000\n",
            "Threshold: 0.325, Recall: 1.000\n",
            "Threshold: 0.338, Recall: 1.000\n",
            "Threshold: 0.342, Recall: 1.000\n",
            "Threshold: 0.381, Recall: 1.000\n",
            "Threshold: 0.396, Recall: 1.000\n",
            "Threshold: 0.420, Recall: 1.000\n",
            "Threshold: 0.424, Recall: 1.000\n",
            "Threshold: 0.436, Recall: 1.000\n",
            "Threshold: 0.439, Recall: 0.952\n",
            "Threshold: 0.442, Recall: 0.952\n",
            "Threshold: 0.446, Recall: 0.935\n",
            "Threshold: 0.458, Recall: 0.919\n",
            "Threshold: 0.462, Recall: 0.887\n",
            "Threshold: 0.465, Recall: 0.855\n",
            "Threshold: 0.482, Recall: 0.855\n",
            "Threshold: 0.488, Recall: 0.855\n",
            "Threshold: 0.497, Recall: 0.823\n",
            "Threshold: 0.503, Recall: 0.806\n",
            "Threshold: 0.504, Recall: 0.806\n",
            "Threshold: 0.520, Recall: 0.661\n",
            "Threshold: 0.521, Recall: 0.548\n",
            "Threshold: 0.525, Recall: 0.532\n",
            "Threshold: 0.527, Recall: 0.532\n",
            "Threshold: 0.536, Recall: 0.532\n",
            "Threshold: 0.540, Recall: 0.484\n",
            "Threshold: 0.543, Recall: 0.468\n",
            "Threshold: 0.565, Recall: 0.452\n",
            "Threshold: 0.573, Recall: 0.452\n",
            "Threshold: 0.582, Recall: 0.452\n",
            "Threshold: 0.584, Recall: 0.435\n",
            "Threshold: 0.597, Recall: 0.435\n",
            "Threshold: 0.608, Recall: 0.419\n",
            "Threshold: 0.640, Recall: 0.403\n",
            "Threshold: 0.643, Recall: 0.403\n",
            "Threshold: 0.658, Recall: 0.403\n",
            "Threshold: 0.663, Recall: 0.403\n",
            "Threshold: 0.667, Recall: 0.403\n",
            "Threshold: 0.677, Recall: 0.403\n",
            "Threshold: 0.680, Recall: 0.403\n",
            "Threshold: 0.683, Recall: 0.403\n",
            "Threshold: 0.686, Recall: 0.387\n",
            "Threshold: 0.696, Recall: 0.371\n",
            "Threshold: 0.699, Recall: 0.323\n",
            "Threshold: 0.712, Recall: 0.323\n",
            "Threshold: 0.716, Recall: 0.323\n",
            "Threshold: 0.729, Recall: 0.323\n",
            "Threshold: 0.732, Recall: 0.323\n",
            "Threshold: 0.734, Recall: 0.306\n",
            "Threshold: 0.744, Recall: 0.290\n",
            "Threshold: 0.746, Recall: 0.290\n",
            "Threshold: 0.747, Recall: 0.274\n",
            "Threshold: 0.747, Recall: 0.258\n",
            "Threshold: 0.749, Recall: 0.258\n",
            "Threshold: 0.750, Recall: 0.258\n",
            "Threshold: 0.752, Recall: 0.258\n",
            "Threshold: 0.758, Recall: 0.242\n",
            "Threshold: 0.761, Recall: 0.210\n",
            "Threshold: 0.761, Recall: 0.177\n",
            "Threshold: 0.778, Recall: 0.161\n",
            "Threshold: 0.791, Recall: 0.145\n",
            "Threshold: 0.793, Recall: 0.129\n",
            "Threshold: 0.801, Recall: 0.097\n",
            "Threshold: 0.804, Recall: 0.065\n",
            "Threshold: 0.806, Recall: 0.065\n",
            "Threshold: 0.813, Recall: 0.065\n",
            "Threshold: 0.840, Recall: 0.065\n",
            "Threshold: 0.848, Recall: 0.048\n",
            "Threshold: 0.881, Recall: 0.032\n",
            "Threshold: 0.890, Recall: 0.032\n",
            "Threshold: 0.892, Recall: 0.032\n",
            "Threshold: 0.896, Recall: 0.016\n",
            "Threshold: 0.912, Recall: 0.016\n",
            "Threshold: 0.917, Recall: 0.016\n",
            "Threshold: 0.918, Recall: 0.016\n",
            "Threshold: 0.919, Recall: 0.016\n",
            "Threshold: 0.923, Recall: 0.016\n",
            "Threshold: 0.938, Recall: 0.000\n",
            "All thresholds where recall >= 0.8:\n",
            "Index: 0, Threshold: 0.06058291067490442, Recall: 1.0\n",
            "Index: 1, Threshold: 0.06417138180673905, Recall: 1.0\n",
            "Index: 2, Threshold: 0.07636127809988223, Recall: 1.0\n",
            "Index: 3, Threshold: 0.0808039509885312, Recall: 1.0\n",
            "Index: 4, Threshold: 0.10059096987075662, Recall: 1.0\n",
            "Index: 5, Threshold: 0.24287924443693165, Recall: 1.0\n",
            "Index: 6, Threshold: 0.2543421053624057, Recall: 1.0\n",
            "Index: 7, Threshold: 0.25741651977056146, Recall: 1.0\n",
            "Index: 8, Threshold: 0.2597283279640956, Recall: 1.0\n",
            "Index: 9, Threshold: 0.2628448991854711, Recall: 1.0\n",
            "Index: 10, Threshold: 0.2717010256848589, Recall: 1.0\n",
            "Index: 11, Threshold: 0.27490791009680005, Recall: 1.0\n",
            "Index: 12, Threshold: 0.29140771677989996, Recall: 1.0\n",
            "Index: 13, Threshold: 0.3042405677466813, Recall: 1.0\n",
            "Index: 14, Threshold: 0.31024383419828144, Recall: 1.0\n",
            "Index: 15, Threshold: 0.32352745093537055, Recall: 1.0\n",
            "Index: 16, Threshold: 0.32482478720614477, Recall: 1.0\n",
            "Index: 17, Threshold: 0.3384263975918281, Recall: 1.0\n",
            "Index: 18, Threshold: 0.34205095807525, Recall: 1.0\n",
            "Index: 19, Threshold: 0.3814767534718372, Recall: 1.0\n",
            "Index: 20, Threshold: 0.39605903787838503, Recall: 1.0\n",
            "Index: 21, Threshold: 0.4204985746786635, Recall: 1.0\n",
            "Index: 22, Threshold: 0.42443820388632136, Recall: 1.0\n",
            "Index: 23, Threshold: 0.4355221882167355, Recall: 1.0\n",
            "Index: 24, Threshold: 0.4394958234696394, Recall: 0.9516129032258065\n",
            "Index: 25, Threshold: 0.44246850518319475, Recall: 0.9516129032258065\n",
            "Index: 26, Threshold: 0.4464553914757036, Recall: 0.9354838709677419\n",
            "Index: 27, Threshold: 0.45765715869595736, Recall: 0.9193548387096774\n",
            "Index: 28, Threshold: 0.46166757686334053, Recall: 0.8870967741935484\n",
            "Index: 29, Threshold: 0.4654206567341109, Recall: 0.8548387096774194\n",
            "Index: 30, Threshold: 0.4819264819388483, Recall: 0.8548387096774194\n",
            "Index: 31, Threshold: 0.48776214373438465, Recall: 0.8548387096774194\n",
            "Index: 32, Threshold: 0.49726155634991287, Recall: 0.8225806451612904\n",
            "Index: 33, Threshold: 0.5031025841706739, Recall: 0.8064516129032258\n",
            "Index: 34, Threshold: 0.5043128283850462, Recall: 0.8064516129032258\n",
            "=== High Threshold (idx[0]) ===\n",
            "Threshold: 0.06058291067490442\n",
            "ROC AUC: 0.779544690860215\n",
            "Confusion Matrix:\n",
            " [[  0 960]\n",
            " [  0  62]]\n",
            "Classification Report:\n",
            "               precision    recall  f1-score   support\n",
            "\n",
            "           0       0.00      0.00      0.00       960\n",
            "           1       0.06      1.00      0.11        62\n",
            "\n",
            "    accuracy                           0.06      1022\n",
            "   macro avg       0.03      0.50      0.06      1022\n",
            "weighted avg       0.00      0.06      0.01      1022\n",
            "\n",
            "Accuracy: 0.060665362035225046\n",
            "\n",
            "\n",
            "=== Low Threshold (idx[-1]) ===\n",
            "Threshold: 0.5043128283850462\n",
            "ROC AUC: 0.779544690860215\n",
            "Confusion Matrix:\n",
            " [[609 351]\n",
            " [ 12  50]]\n",
            "Classification Report:\n",
            "               precision    recall  f1-score   support\n",
            "\n",
            "           0       0.98      0.63      0.77       960\n",
            "           1       0.12      0.81      0.22        62\n",
            "\n",
            "    accuracy                           0.64      1022\n",
            "   macro avg       0.55      0.72      0.49      1022\n",
            "weighted avg       0.93      0.64      0.74      1022\n",
            "\n",
            "Accuracy: 0.6448140900195695\n",
            "\n",
            "\n"
          ]
        },
        {
          "output_type": "stream",
          "name": "stderr",
          "text": [
            "/usr/local/lib/python3.12/dist-packages/sklearn/metrics/_classification.py:1565: UndefinedMetricWarning: Precision is ill-defined and being set to 0.0 in labels with no predicted samples. Use `zero_division` parameter to control this behavior.\n",
            "  _warn_prf(average, modifier, f\"{metric.capitalize()} is\", len(result))\n",
            "/usr/local/lib/python3.12/dist-packages/sklearn/metrics/_classification.py:1565: UndefinedMetricWarning: Precision is ill-defined and being set to 0.0 in labels with no predicted samples. Use `zero_division` parameter to control this behavior.\n",
            "  _warn_prf(average, modifier, f\"{metric.capitalize()} is\", len(result))\n",
            "/usr/local/lib/python3.12/dist-packages/sklearn/metrics/_classification.py:1565: UndefinedMetricWarning: Precision is ill-defined and being set to 0.0 in labels with no predicted samples. Use `zero_division` parameter to control this behavior.\n",
            "  _warn_prf(average, modifier, f\"{metric.capitalize()} is\", len(result))\n"
          ]
        }
      ]
    },
    {
      "cell_type": "code",
      "source": [
        "best_threshold= thresholds[idx[-1]]\n",
        "y_pred_best=(y_pred_top_prob>=best_threshold).astype(int)\n",
        "\n",
        "print(\"=== Best Threshold (idx[-1]) ===\")\n",
        "print(\"Threshold:\", best_threshold)\n",
        "print(\"ROC AUC:\", roc_auc_score(y_test,probs ))\n",
        "print(\"Confusion Matrix:\\n\", confusion_matrix(y_test, y_pred_best))\n",
        "print(\"Classification Report:\\n\", classification_report(y_test, y_pred_best))\n",
        "print(\"Accuracy:\", accuracy_score(y_test, y_pred_best))\n"
      ],
      "metadata": {
        "id": "o1C3GGQkj0MA",
        "colab": {
          "base_uri": "https://localhost:8080/"
        },
        "outputId": "2503697f-3d84-427a-90bc-48e4e22c29d9"
      },
      "execution_count": 45,
      "outputs": [
        {
          "output_type": "stream",
          "name": "stdout",
          "text": [
            "=== Best Threshold (idx[-1]) ===\n",
            "Threshold: 0.5043128283850462\n",
            "ROC AUC: 0.779544690860215\n",
            "Confusion Matrix:\n",
            " [[609 351]\n",
            " [ 12  50]]\n",
            "Classification Report:\n",
            "               precision    recall  f1-score   support\n",
            "\n",
            "           0       0.98      0.63      0.77       960\n",
            "           1       0.12      0.81      0.22        62\n",
            "\n",
            "    accuracy                           0.64      1022\n",
            "   macro avg       0.55      0.72      0.49      1022\n",
            "weighted avg       0.93      0.64      0.74      1022\n",
            "\n",
            "Accuracy: 0.6448140900195695\n"
          ]
        }
      ]
    },
    {
      "cell_type": "code",
      "source": [
        "from sklearn.metrics import precision_recall_curve\n",
        "import matplotlib.pyplot as plt\n",
        "precisions, recalls, thresholds=precision_recall_curve(y_test,y_pred_top_prob)\n",
        "plt.figure(figsize=(10,8))\n",
        "plt.plot(recalls[:-1], precisions[:-1], color=\"blue\" , linestyle=\"--\")\n",
        "plt.axvline(x=target_recall, color=\"red\" , linestyle=\"--\", label=\"Target Recall={target_recall}\")\n",
        "plt.axvline(x=recalls[idx[-1]],color=\"orange\", linestyle=\"--\", label=f\"idx[-1] Threshold={thresholds[idx[-1]]:.3f}\")\n",
        "plt.axvline(x=recalls[idx[0-1]],color=\"green\", linestyle=\"--\", label=f\"idx[0] Threshold={thresholds[idx[0]]:.3f}\")\n",
        "plt.xlabel(\"recalls\")\n",
        "plt.ylabel(\"precisions\")\n",
        "plt.title(\"precision recall curve\")\n",
        "plt.legend()\n",
        "plt.show()"
      ],
      "metadata": {
        "colab": {
          "base_uri": "https://localhost:8080/",
          "height": 718
        },
        "id": "wL9oHqoMoe2s",
        "outputId": "063af83b-8654-4af3-e759-ebcda171d388"
      },
      "execution_count": 46,
      "outputs": [
        {
          "output_type": "display_data",
          "data": {
            "text/plain": [
              "<Figure size 1000x800 with 1 Axes>"
            ],
            "image/png": "[encoded data removed]"
          },
          "metadata": {}
        }
      ]
    },
    {
      "cell_type": "code",
      "source": [
        "from sklearn.model_selection import GridSearchCV\n",
        "from sklearn.ensemble import RandomForestClassifier\n",
        "rf= RandomForestClassifier(random_state=42)\n",
        "param_grid={\"n_estimators\":[50,100,200], \"max_depth\":[None,5,10], \"min_samples_split\":[2,5,10]}\n",
        "grid_search=GridSearchCV(rf, param_grid, cv=5 , n_jobs=-1, scoring= \"roc_auc\")\n",
        "grid_search.fit(X_train_top, y_train)\n",
        "print(\"Best Params\", grid_search.best_params_)\n",
        "print(\"Best score\", grid_search.best_score_)"
      ],
      "metadata": {
        "colab": {
          "base_uri": "https://localhost:8080/"
        },
        "id": "iCHQI6LTKYWf",
        "outputId": "c285a5ca-6cd1-4b4e-d7bc-8fc381ae2542"
      },
      "execution_count": 47,
      "outputs": [
        {
          "output_type": "stream",
          "name": "stdout",
          "text": [
            "Best Params {'max_depth': 5, 'min_samples_split': 5, 'n_estimators': 50}\n",
            "Best score 0.7091907595206335\n"
          ]
        }
      ]
    },
    {
      "cell_type": "code",
      "source": [
        "from sklearn.model_selection import GridSearchCV\n",
        "best_rf=grid_search.best_estimator_\n",
        "best_rf.fit(X_train_top,y_train)\n",
        "y_pred_tun =best_rf.predict(X_test_top)\n",
        "y_pred_tun_prob= best_rf.predict_proba(X_test_top)[:,1]\n",
        "print(\"ROC AUC:\", roc_auc_score(y_test,y_pred_tun_prob ))\n",
        "print(\"Confusion Matrix:\\n\", confusion_matrix(y_test, y_pred_tun))\n",
        "print(\"Classification Report:\\n\", classification_report(y_test,y_pred_tun))\n",
        "print(\"Accuracy:\", accuracy_score(y_test, y_pred_tun))\n",
        "\n"
      ],
      "metadata": {
        "colab": {
          "base_uri": "https://localhost:8080/"
        },
        "id": "CiVt4LR0cQQt",
        "outputId": "4b3732c9-76e6-41c8-be38-cc9fa46bd96d"
      },
      "execution_count": 48,
      "outputs": [
        {
          "output_type": "stream",
          "name": "stdout",
          "text": [
            "ROC AUC: 0.780099126344086\n",
            "Confusion Matrix:\n",
            " [[960   0]\n",
            " [ 62   0]]\n",
            "Classification Report:\n",
            "               precision    recall  f1-score   support\n",
            "\n",
            "           0       0.94      1.00      0.97       960\n",
            "           1       0.00      0.00      0.00        62\n",
            "\n",
            "    accuracy                           0.94      1022\n",
            "   macro avg       0.47      0.50      0.48      1022\n",
            "weighted avg       0.88      0.94      0.91      1022\n",
            "\n",
            "Accuracy: 0.9393346379647749\n"
          ]
        },
        {
          "output_type": "stream",
          "name": "stderr",
          "text": [
            "/usr/local/lib/python3.12/dist-packages/sklearn/metrics/_classification.py:1565: UndefinedMetricWarning: Precision is ill-defined and being set to 0.0 in labels with no predicted samples. Use `zero_division` parameter to control this behavior.\n",
            "  _warn_prf(average, modifier, f\"{metric.capitalize()} is\", len(result))\n",
            "/usr/local/lib/python3.12/dist-packages/sklearn/metrics/_classification.py:1565: UndefinedMetricWarning: Precision is ill-defined and being set to 0.0 in labels with no predicted samples. Use `zero_division` parameter to control this behavior.\n",
            "  _warn_prf(average, modifier, f\"{metric.capitalize()} is\", len(result))\n",
            "/usr/local/lib/python3.12/dist-packages/sklearn/metrics/_classification.py:1565: UndefinedMetricWarning: Precision is ill-defined and being set to 0.0 in labels with no predicted samples. Use `zero_division` parameter to control this behavior.\n",
            "  _warn_prf(average, modifier, f\"{metric.capitalize()} is\", len(result))\n"
          ]
        }
      ]
    },
    {
      "cell_type": "code",
      "source": [
        "from sklearn.metrics import precision_recall_curve\n",
        "precisions, recalls, thresholds=precision_recall_curve(y_test,y_pred_tun_prob)\n",
        "target_recall=0.8\n",
        "idx= np.where(recalls[:-1]>= target_recall)[0]\n",
        "best_threshold_tun=thresholds[idx[-1]]\n",
        "y_tun=(y_pred_tun_prob>= best_threshold_tun).astype(int)\n",
        "print(\"ROC AUC:\", roc_auc_score(y_test,y_pred_tun_prob ))\n",
        "print(\"Confusion Matrix:\\n\", confusion_matrix(y_test, y_tun))\n",
        "print(\"Classification Report:\\n\", classification_report(y_test,y_tun))\n",
        "print(\"Accuracy:\", accuracy_score(y_test, y_tun))\n"
      ],
      "metadata": {
        "colab": {
          "base_uri": "https://localhost:8080/"
        },
        "id": "0brU4GSpfEbH",
        "outputId": "7377a85b-315c-44c8-a5b0-f185bf9d6216"
      },
      "execution_count": 49,
      "outputs": [
        {
          "output_type": "stream",
          "name": "stdout",
          "text": [
            "ROC AUC: 0.780099126344086\n",
            "Confusion Matrix:\n",
            " [[575 385]\n",
            " [ 10  52]]\n",
            "Classification Report:\n",
            "               precision    recall  f1-score   support\n",
            "\n",
            "           0       0.98      0.60      0.74       960\n",
            "           1       0.12      0.84      0.21        62\n",
            "\n",
            "    accuracy                           0.61      1022\n",
            "   macro avg       0.55      0.72      0.48      1022\n",
            "weighted avg       0.93      0.61      0.71      1022\n",
            "\n",
            "Accuracy: 0.6135029354207436\n"
          ]
        }
      ]
    }
  ],
  "metadata": {
    "colab": {
      "provenance": []
    },
    "kernelspec": {
      "display_name": "Python 3",
      "name": "python3"
    },
    "language_info": {
      "name": "python"
    }
  },
  "nbformat": 4,
  "nbformat_minor": 0
}